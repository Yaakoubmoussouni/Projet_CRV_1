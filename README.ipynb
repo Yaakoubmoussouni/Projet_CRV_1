{
  "cells": [
    {
      "cell_type": "markdown",
      "metadata": {},
      "source": [
        "# Projet AutoScaling et IaC"
      ]
    },
    {
      "cell_type": "markdown",
      "metadata": {},
      "source": [
        "## Prérequis :\n",
        " &#8226; Docker\n",
        " <br>\n",
        " installation de docker : \n",
        " <br>\n",
        " https://docs.docker.com/engine/install/ubuntu/\n",
        " <br>\n",
        " &#8226; Minikube\n",
        "<br>\n",
        "```console\n",
        " curl -Lo minikube https://storage.googleapis.com/minikube/releases/latest/minikube-linux-amd64 \\\n",
        "  && chmod +x minikube\n",
        "```\n",
        " <br>\n",
        "ajouter l'exécutable Minikube à votre path :\n",
        "<br>\n",
        "\n",
        " ```console\n",
        " sudo mkdir -p /usr/local/bin/\n",
        " sudo install minikube /usr/local/bin/\n",
        " ```\n",
        "lancer minikube :\n",
        " <br>\n",
        "\n",
        " ```console\n",
        " minikube start\n",
        " ```\n",
        " vérifier le statue de minikube : \n",
        " <br>\n",
        " \n",
        " ```console\n",
        " minikube status\n",
        " ```"
      ]
    },
    {
      "cell_type": "markdown",
      "metadata": {},
      "source": [
        "## Objectif"
      ]
    },
    {
      "cell_type": "markdown",
      "metadata": {},
      "source": [
        "Deploiement d'une application sur Minikube avec auto-scaling et monitoring utilisant Prometheus & Grafana."
      ]
    },
    {
      "cell_type": "markdown",
      "metadata": {},
      "source": [
        "### Redis"
      ]
    },
    {
      "cell_type": "markdown",
      "metadata": {},
      "source": [
        "Déployer une base de donnée Redis à partir de l'image officielle Docker (redis)\n",
        " <br>\n",
        " &#8226;  https://hub.docker.com/_/redis\n",
        "  <br>\n",
        " &#8226;  https://hub.docker.com/repository/docker/sofia016/bdredis/general\n",
        "  <br>\n",
        " &#8226;  https://hub.docker.com/repository/docker/myaakoub/redis/general\n",
        "\n",
        "```console\n",
        " docker pull redis\n",
        "```\n",
        " ou\n",
        "```console\n",
        " docker pull sofia016/bdredis:latest\n",
        "```\n",
        " ou\n",
        "```console\n",
        " docker pull myaakoub/redis:latest\n",
        "```"
      ]
    },
    {
      "cell_type": "markdown",
      "metadata": {},
      "source": [
        "### Node-Redis"
      ]
    },
    {
      "cell_type": "markdown",
      "metadata": {},
      "source": [
        "Déployer le serveur nodejs \n",
        "<br>\n",
        " &#8226;  https://hub.docker.com/repository/docker/sofia016/node-js/general\n",
        "  <br>\n",
        "<br>\n",
        " &#8226;  https://hub.docker.com/repository/docker/myaakoub/node-server/general\n",
        "  <br>\n",
        "```console\n",
        "  docker pull myaakoub/node-server:latest\n",
        "```\n",
        "ou\n",
        "```console\n",
        "  docker pull sofia016/node-js:latest\n",
        "```  "
      ]
    },
    {
      "cell_type": "markdown",
      "metadata": {},
      "source": [
        "Pour que le serveur fonctionne correctement vous devez ajouter ses configurations dans son environment.\n",
        "\n"
      ]
    },
    {
      "cell_type": "raw",
      "metadata": {},
      "source": [
        "          env:\n",
        "            - name: PORT\n",
        "              value: '8080'\n",
        "            - name: REDIS_URL\n",
        "              value: redis://redis.default.svc.cluster.local:6379\n",
        "            - name: REDIS_REPLICAS_URL\n",
        "              value: redis://redis.default.svc.cluster.local:6379"
      ]
    },
    {
      "cell_type": "markdown",
      "metadata": {},
      "source": [
        "### Service\n",
        "\n"
      ]
    },
    {
      "cell_type": "markdown",
      "metadata": {},
      "source": [
        "Créer un service pour la base de données Redis et le rendre accessible à l'intérieur du cluster. <br>\n",
        "Créer un service pour le serveur Node-Redis et  le rendre accessible de l'exterieur du cluster."
      ]
    },
    {
      "cell_type": "markdown",
      "metadata": {},
      "source": [
        "### Pods\n"
      ]
    },
    {
      "cell_type": "markdown",
      "metadata": {},
      "source": [
        "Créer un déploiement pour la base de données Redis et le serveur Node-Redis. <br>\n",
        "Une fois qu'un serveur fonctionne augmentez le nombre de pods (Node-Redis à 2, et Redis entre 2 et 3). Et vérifier que cela fonctionne toujours.\n",
        "ceci se fait à l'aide de l'augmentation de nombres de replicas dans les fichiers \"deployment\""
      ]
    },
    {
      "cell_type": "markdown",
      "metadata": {},
      "source": [
        "### Frontend"
      ]
    },
    {
      "cell_type": "markdown",
      "metadata": {},
      "source": [
        "Pour tester que le serveur node-redis fonctionne correctement  lancer un frontend : <br>\n",
        "&#8226;   https://hub.docker.com/repository/docker/myaakoub/redis-react/general <br>\n",
        "```console\n",
        "docker pull myaakoub/redis-react:latest\n",
        "\n",
        "``` \n",
        "&#8226;  https://hub.docker.com/repository/docker/sofia016/frontend/general <br>\n",
        "\n",
        "```console\n",
        " docker pull sofia016/frontend:latest\n",
        "```"
      ]
    },
    {
      "cell_type": "markdown",
      "metadata": {},
      "source": [
        "### Mise à l'échelle"
      ]
    },
    {
      "cell_type": "markdown",
      "metadata": {},
      "source": [
        "Auto-scaling : Configurer l'auto-scaling pour les composants de l'application, en particulier pour les déploiements de Redis et du serveur Node.js.<br> L'auto-scaling permettra à notre application de s'adapter dynamiquement à la charge de travail, en augmentant ou en diminuant le nombre de pods en fonction des besoins.\n",
        "\n",
        "Pour augmenter la capacité de la base de donnée redis.\n",
        "<br>\n",
        " configurer le fichier YAML pour la mise à l'échelle."
      ]
    },
    {
      "cell_type": "markdown",
      "metadata": {},
      "source": [
        "### Monitoring avec Prometheus/Grafana"
      ]
    },
    {
      "cell_type": "markdown",
      "metadata": {},
      "source": [
        "Monitoring : Mettre en place un système de surveillance utilisant Prometheus et Grafana pour collecter et visualiser les métriques de performance de notre application. <br> Cela nous permettra de surveiller les performances, de détecter les problèmes potentiels et de prendre des mesures préventives pour maintenir la santé de notre système.\n",
        "\n",
        "Déployer Prometheus pour le monitoring <br>\n",
        " &#8226;  https://hub.docker.com/r/prom/prometheus <br>\n",
        " \n",
        "```console\n",
        " docker pull prom/prometheus\n",
        "```\n",
        "\n",
        " &#8226;  https://github.com/prometheus-community/helm-charts/tree/main/charts/prometheus <br>\n",
        " ce depot git contient une configuration parfaite de prometheus pour notre déploiement et qui a été automatisée via notre makefile deploy-infra.sh \n",
        " \n",
        "\n",
        "Déployer Grafana  pour le monitoring <br>\n",
        " &#8226; https://hub.docker.com/r/grafana/grafana <br>\n",
        " \n",
        "```console\n",
        " docker pull grafana/grafana\n",
        "```"
      ]
    },
    {
      "cell_type": "markdown",
      "metadata": {},
      "source": [
        "## Commandes utiles"
      ]
    },
    {
      "cell_type": "markdown",
      "metadata": {},
      "source": [
        "Visualiser les ressources déployées"
      ]
    },
    {
      "cell_type": "raw",
      "metadata": {},
      "source": [
        "kubectl get pods\n",
        "kubectl get services\n",
        "kubectl get deployments"
      ]
    },
    {
      "cell_type": "markdown",
      "metadata": {},
      "source": [
        "Récupérer les log d'un pod\n",
        "\n"
      ]
    },
    {
      "cell_type": "raw",
      "metadata": {},
      "source": [
        "kubectl logs <pod-id>"
      ]
    },
    {
      "cell_type": "markdown",
      "metadata": {},
      "source": [
        "Utiliser un fichier yaml et l'appliquer"
      ]
    },
    {
      "cell_type": "raw",
      "metadata": {},
      "source": [
        "kubectl delete -f file.yaml\n",
        "kubectl apply -f file.yaml"
      ]
    },
    {
      "cell_type": "markdown",
      "metadata": {},
      "source": [
        "Un fichier deploy-infra.sh est mis à disposition, Ce script est une sort de makefile, conçu pour automatiser le déploiement d'un ensemble de services sur un cluster Kubernetes Minikube. <br>\n",
        "Il effectue les tâches suivantes : <br>\n",
        "\n",
        "&#8226; Vérifie si Minikube est déjà en cours d'exécution. Sinon, il démarre Minikube. <br>\n",
        "&#8226; Récupère le répertoire actuel du script.<br>\n",
        "&#8226; Supprime tous les déploiements, pods et services existants.<br>\n",
        "&#8226; Déploie les services Redis, Node.js, React, Prometheus et Grafana à l'aide de fichiers de configuration YAML.<br>\n",
        "&#8226; Vérifie si Helm est installé. Sinon, il l'installe.<br>\n",
        "&#8226; Ajoute le référentiel Helm Prometheus et met à jour les référentiels Helm.<br>\n",
        "&#8226; Vérifie si une version de Prometheus est déjà installée. Si oui, il la désinstalle.<br>\n",
        "&#8226; Installe Prometheus à l'aide de Helm.<br>\n",
        "&#8226; Déploie Grafana.<br>\n",
        "&#8226; Affiche un message indiquant que l'infrastructure a été déployée avec succès et liste les services accessibles via le navigateur à l'aide de minikube service list.<br>\n",
        "\n",
        "Utilisez le script fourni deploy-infra.sh pour automatiser le déploiement des services sur Minikube. Assurez-vous d'avoir les droits d'exécution sur le script (chmod +x deploy-infra.sh) puis lancez-le avec : <br>\n",
        "\n",
        "```console\n",
        "./deploy-infra.sh\n",
        "```\n",
        "\n",
        "Ce script facilitera le déploiement de votre infrastructure sur Minikube, vous permettant ainsi de vous concentrer sur le développement de votre application.\n"
      ]
    }
  ],
  "metadata": {
    "kernelspec": {
      "display_name": "Python (Pyodide)",
      "language": "python",
      "name": "python"
    },
    "language_info": {
      "codemirror_mode": {
        "name": "python",
        "version": 3
      },
      "file_extension": ".py",
      "mimetype": "text/x-python",
      "name": "python",
      "nbconvert_exporter": "python",
      "pygments_lexer": "ipython3",
      "version": "3.8"
    }
  },
  "nbformat": 4,
  "nbformat_minor": 4
}
